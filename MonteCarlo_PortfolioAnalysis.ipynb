{
 "cells": [
  {
   "cell_type": "markdown",
   "metadata": {},
   "source": [
    "# Monte Carlo Simulation Python\n"
   ]
  },
  {
   "cell_type": "code",
   "execution_count": 1,
   "metadata": {},
   "outputs": [],
   "source": [
    "import pandas as pd\n",
    "import numpy as np\n",
    "import yfinance as yf\n",
    "import datetime as dt\n",
    "import matplotlib.pyplot as plt\n",
    "from scipy.stats import norm\n",
    "\n"
   ]
  },
  {
   "cell_type": "markdown",
   "metadata": {},
   "source": [
    "# Set timeframe #\n"
   ]
  },
  {
   "cell_type": "code",
   "execution_count": 2,
   "metadata": {},
   "outputs": [],
   "source": [
    "years = 15\n",
    "\n",
    "endDate = dt.datetime.now()\n",
    "startDate = endDate - dt.timedelta(days = 365 * years)"
   ]
  },
  {
   "cell_type": "markdown",
   "metadata": {},
   "source": [
    "## Create Tickers ##\n"
   ]
  },
  {
   "cell_type": "code",
   "execution_count": 3,
   "metadata": {},
   "outputs": [],
   "source": [
    "tickers = ['SPY', 'BND', 'GLD', 'QQQ', 'VTI']"
   ]
  },
  {
   "cell_type": "code",
   "execution_count": 4,
   "metadata": {},
   "outputs": [
    {
     "name": "stderr",
     "output_type": "stream",
     "text": [
      "[*********************100%***********************]  1 of 1 completed\n",
      "[*********************100%***********************]  1 of 1 completed\n",
      "[*********************100%***********************]  1 of 1 completed\n",
      "[*********************100%***********************]  1 of 1 completed\n",
      "[*********************100%***********************]  1 of 1 completed"
     ]
    },
    {
     "name": "stdout",
     "output_type": "stream",
     "text": [
      "                   SPY        BND         GLD         QQQ         VTI\n",
      "Date                                                                 \n",
      "2010-04-29   91.843842  51.808941  114.279999   43.855530   47.310802\n",
      "2010-04-30   90.286003  51.958683  115.360001   42.991154   46.501289\n",
      "2010-05-03   91.456276  51.930580  115.730003   43.593597   47.127518\n",
      "2010-05-04   89.305710  52.080780  114.870003   42.283943   45.981983\n",
      "2010-05-05   88.773766  52.106895  115.089996   42.065659   45.607773\n",
      "...                ...        ...         ...         ...         ...\n",
      "2025-04-17  526.409973  72.650002  306.119995  444.100006  258.750000\n",
      "2025-04-21  513.880005  72.250000  315.589996  433.109985  252.600006\n",
      "2025-04-22  527.250000  72.379997  311.109985  444.480011  259.029999\n",
      "2025-04-23  535.419983  72.529999  303.649994  454.559998  263.440002\n",
      "2025-04-24  546.690002  72.940002  308.070007  467.350006  268.989990\n",
      "\n",
      "[3771 rows x 5 columns]\n"
     ]
    },
    {
     "name": "stderr",
     "output_type": "stream",
     "text": [
      "\n"
     ]
    }
   ],
   "source": [
    "adj_close_priceDF = pd.DataFrame()\n",
    "\n",
    "for ticker in tickers:\n",
    "    data = yf.download(ticker, start = startDate, end = endDate, auto_adjust = False)\n",
    "    adj_close_priceDF[ticker] = data['Adj Close']\n",
    "\n",
    "print(adj_close_priceDF)"
   ]
  },
  {
   "cell_type": "markdown",
   "metadata": {},
   "source": [
    "### Calculate daily log returns ###"
   ]
  },
  {
   "cell_type": "code",
   "execution_count": 5,
   "metadata": {},
   "outputs": [
    {
     "data": {
      "text/html": [
       "<div>\n",
       "<style scoped>\n",
       "    .dataframe tbody tr th:only-of-type {\n",
       "        vertical-align: middle;\n",
       "    }\n",
       "\n",
       "    .dataframe tbody tr th {\n",
       "        vertical-align: top;\n",
       "    }\n",
       "\n",
       "    .dataframe thead th {\n",
       "        text-align: right;\n",
       "    }\n",
       "</style>\n",
       "<table border=\"1\" class=\"dataframe\">\n",
       "  <thead>\n",
       "    <tr style=\"text-align: right;\">\n",
       "      <th></th>\n",
       "      <th>SPY</th>\n",
       "      <th>BND</th>\n",
       "      <th>GLD</th>\n",
       "      <th>QQQ</th>\n",
       "      <th>VTI</th>\n",
       "    </tr>\n",
       "    <tr>\n",
       "      <th>Date</th>\n",
       "      <th></th>\n",
       "      <th></th>\n",
       "      <th></th>\n",
       "      <th></th>\n",
       "      <th></th>\n",
       "    </tr>\n",
       "  </thead>\n",
       "  <tbody>\n",
       "    <tr>\n",
       "      <th>2010-04-30</th>\n",
       "      <td>-0.017107</td>\n",
       "      <td>0.002886</td>\n",
       "      <td>0.009406</td>\n",
       "      <td>-0.019906</td>\n",
       "      <td>-0.017259</td>\n",
       "    </tr>\n",
       "    <tr>\n",
       "      <th>2010-05-03</th>\n",
       "      <td>0.012879</td>\n",
       "      <td>-0.000541</td>\n",
       "      <td>0.003202</td>\n",
       "      <td>0.013916</td>\n",
       "      <td>0.013377</td>\n",
       "    </tr>\n",
       "    <tr>\n",
       "      <th>2010-05-04</th>\n",
       "      <td>-0.023796</td>\n",
       "      <td>0.002888</td>\n",
       "      <td>-0.007459</td>\n",
       "      <td>-0.030503</td>\n",
       "      <td>-0.024607</td>\n",
       "    </tr>\n",
       "    <tr>\n",
       "      <th>2010-05-05</th>\n",
       "      <td>-0.005974</td>\n",
       "      <td>0.000501</td>\n",
       "      <td>0.001913</td>\n",
       "      <td>-0.005176</td>\n",
       "      <td>-0.008171</td>\n",
       "    </tr>\n",
       "    <tr>\n",
       "      <th>2010-05-06</th>\n",
       "      <td>-0.033778</td>\n",
       "      <td>0.003878</td>\n",
       "      <td>0.029114</td>\n",
       "      <td>-0.033987</td>\n",
       "      <td>-0.034237</td>\n",
       "    </tr>\n",
       "    <tr>\n",
       "      <th>...</th>\n",
       "      <td>...</td>\n",
       "      <td>...</td>\n",
       "      <td>...</td>\n",
       "      <td>...</td>\n",
       "      <td>...</td>\n",
       "    </tr>\n",
       "    <tr>\n",
       "      <th>2025-04-17</th>\n",
       "      <td>0.001426</td>\n",
       "      <td>-0.002200</td>\n",
       "      <td>-0.004400</td>\n",
       "      <td>-0.000180</td>\n",
       "      <td>0.002089</td>\n",
       "    </tr>\n",
       "    <tr>\n",
       "      <th>2025-04-21</th>\n",
       "      <td>-0.024091</td>\n",
       "      <td>-0.005521</td>\n",
       "      <td>0.030467</td>\n",
       "      <td>-0.025058</td>\n",
       "      <td>-0.024055</td>\n",
       "    </tr>\n",
       "    <tr>\n",
       "      <th>2025-04-22</th>\n",
       "      <td>0.025685</td>\n",
       "      <td>0.001798</td>\n",
       "      <td>-0.014297</td>\n",
       "      <td>0.025913</td>\n",
       "      <td>0.025137</td>\n",
       "    </tr>\n",
       "    <tr>\n",
       "      <th>2025-04-23</th>\n",
       "      <td>0.015377</td>\n",
       "      <td>0.002070</td>\n",
       "      <td>-0.024271</td>\n",
       "      <td>0.022425</td>\n",
       "      <td>0.016882</td>\n",
       "    </tr>\n",
       "    <tr>\n",
       "      <th>2025-04-24</th>\n",
       "      <td>0.020830</td>\n",
       "      <td>0.005637</td>\n",
       "      <td>0.014451</td>\n",
       "      <td>0.027749</td>\n",
       "      <td>0.020849</td>\n",
       "    </tr>\n",
       "  </tbody>\n",
       "</table>\n",
       "<p>3770 rows × 5 columns</p>\n",
       "</div>"
      ],
      "text/plain": [
       "                 SPY       BND       GLD       QQQ       VTI\n",
       "Date                                                        \n",
       "2010-04-30 -0.017107  0.002886  0.009406 -0.019906 -0.017259\n",
       "2010-05-03  0.012879 -0.000541  0.003202  0.013916  0.013377\n",
       "2010-05-04 -0.023796  0.002888 -0.007459 -0.030503 -0.024607\n",
       "2010-05-05 -0.005974  0.000501  0.001913 -0.005176 -0.008171\n",
       "2010-05-06 -0.033778  0.003878  0.029114 -0.033987 -0.034237\n",
       "...              ...       ...       ...       ...       ...\n",
       "2025-04-17  0.001426 -0.002200 -0.004400 -0.000180  0.002089\n",
       "2025-04-21 -0.024091 -0.005521  0.030467 -0.025058 -0.024055\n",
       "2025-04-22  0.025685  0.001798 -0.014297  0.025913  0.025137\n",
       "2025-04-23  0.015377  0.002070 -0.024271  0.022425  0.016882\n",
       "2025-04-24  0.020830  0.005637  0.014451  0.027749  0.020849\n",
       "\n",
       "[3770 rows x 5 columns]"
      ]
     },
     "execution_count": 5,
     "metadata": {},
     "output_type": "execute_result"
    }
   ],
   "source": [
    "#taking the log of the previous daily close price shifted. Meaning we log the row above the current day\n",
    "log_returns  = np.log(adj_close_priceDF / adj_close_priceDF.shift(1))\n",
    "log_returns = log_returns.dropna()\n",
    "\n",
    "#print\n",
    "log_returns"
   ]
  },
  {
   "cell_type": "markdown",
   "metadata": {},
   "source": [
    "## Calculate Portfolio Expected Return ##"
   ]
  },
  {
   "cell_type": "code",
   "execution_count": 6,
   "metadata": {},
   "outputs": [],
   "source": [
    "#The following function takes the log_returns dataframe and computes the expected return \n",
    "#by calculating the mean for each index over the 15 year time frame\n",
    "#and then multiple by each of their weights respectively\n",
    "#Lastly we sum all to find the portfolios TOTAL expected returns\n",
    "\n",
    "##Disclaimer: Assume future returns are based on past returns in this model\n",
    "\n",
    "def expected_return(weights, log_returns):\n",
    "    return np.sum(log_returns.mean() * weights)\n"
   ]
  },
  {
   "cell_type": "code",
   "execution_count": 7,
   "metadata": {},
   "outputs": [],
   "source": [
    "#Calculate Variance\n",
    "#Transpose the weights matrix and multiply by the covariance matrix, \n",
    "#then multiply by original weights array\n",
    "def standard_deviation(weights, cov_matrix):\n",
    "    variance = weights.T @ cov_matrix @weights\n",
    "    #std.dev is the sqrt of the variance\n",
    "    return np.sqrt(variance)"
   ]
  },
  {
   "cell_type": "markdown",
   "metadata": {},
   "source": [
    "## Create a covariance matrix for all securities ##"
   ]
  },
  {
   "cell_type": "code",
   "execution_count": 8,
   "metadata": {},
   "outputs": [
    {
     "data": {
      "text/html": [
       "<div>\n",
       "<style scoped>\n",
       "    .dataframe tbody tr th:only-of-type {\n",
       "        vertical-align: middle;\n",
       "    }\n",
       "\n",
       "    .dataframe tbody tr th {\n",
       "        vertical-align: top;\n",
       "    }\n",
       "\n",
       "    .dataframe thead th {\n",
       "        text-align: right;\n",
       "    }\n",
       "</style>\n",
       "<table border=\"1\" class=\"dataframe\">\n",
       "  <thead>\n",
       "    <tr style=\"text-align: right;\">\n",
       "      <th></th>\n",
       "      <th>SPY</th>\n",
       "      <th>BND</th>\n",
       "      <th>GLD</th>\n",
       "      <th>QQQ</th>\n",
       "      <th>VTI</th>\n",
       "    </tr>\n",
       "  </thead>\n",
       "  <tbody>\n",
       "    <tr>\n",
       "      <th>SPY</th>\n",
       "      <td>1.218496e-04</td>\n",
       "      <td>3.999713e-07</td>\n",
       "      <td>0.000005</td>\n",
       "      <td>0.000136</td>\n",
       "      <td>1.241657e-04</td>\n",
       "    </tr>\n",
       "    <tr>\n",
       "      <th>BND</th>\n",
       "      <td>3.999713e-07</td>\n",
       "      <td>9.529765e-06</td>\n",
       "      <td>0.000009</td>\n",
       "      <td>0.000001</td>\n",
       "      <td>5.938153e-07</td>\n",
       "    </tr>\n",
       "    <tr>\n",
       "      <th>GLD</th>\n",
       "      <td>5.456445e-06</td>\n",
       "      <td>9.034327e-06</td>\n",
       "      <td>0.000096</td>\n",
       "      <td>0.000007</td>\n",
       "      <td>5.986275e-06</td>\n",
       "    </tr>\n",
       "    <tr>\n",
       "      <th>QQQ</th>\n",
       "      <td>1.360318e-04</td>\n",
       "      <td>1.201627e-06</td>\n",
       "      <td>0.000007</td>\n",
       "      <td>0.000175</td>\n",
       "      <td>1.386448e-04</td>\n",
       "    </tr>\n",
       "    <tr>\n",
       "      <th>VTI</th>\n",
       "      <td>1.241657e-04</td>\n",
       "      <td>5.938153e-07</td>\n",
       "      <td>0.000006</td>\n",
       "      <td>0.000139</td>\n",
       "      <td>1.275132e-04</td>\n",
       "    </tr>\n",
       "  </tbody>\n",
       "</table>\n",
       "</div>"
      ],
      "text/plain": [
       "              SPY           BND       GLD       QQQ           VTI\n",
       "SPY  1.218496e-04  3.999713e-07  0.000005  0.000136  1.241657e-04\n",
       "BND  3.999713e-07  9.529765e-06  0.000009  0.000001  5.938153e-07\n",
       "GLD  5.456445e-06  9.034327e-06  0.000096  0.000007  5.986275e-06\n",
       "QQQ  1.360318e-04  1.201627e-06  0.000007  0.000175  1.386448e-04\n",
       "VTI  1.241657e-04  5.938153e-07  0.000006  0.000139  1.275132e-04"
      ]
     },
     "execution_count": 8,
     "metadata": {},
     "output_type": "execute_result"
    }
   ],
   "source": [
    "cov_matrix = log_returns.cov()\n",
    "\n",
    "cov_matrix"
   ]
  },
  {
   "cell_type": "markdown",
   "metadata": {},
   "source": [
    "## Create Equally Weighted Portfolio (Hypothetical Numbers)"
   ]
  },
  {
   "cell_type": "code",
   "execution_count": 9,
   "metadata": {},
   "outputs": [],
   "source": [
    "portfolio_value = 1000000\n",
    "\n",
    "#Assuming a total portfolio of 1 million dollars, and equally weighted securities\n",
    "weights = np.array([1 / len(tickers)] * len(tickers))\n",
    "portfolio_expected_return = expected_return(weights, log_returns)\n",
    "portfolio_std_dev = standard_deviation(weights, cov_matrix)"
   ]
  },
  {
   "cell_type": "markdown",
   "metadata": {},
   "source": [
    "## Calculate a random Z-Score for a normal distribution ##"
   ]
  },
  {
   "cell_type": "code",
   "execution_count": 10,
   "metadata": {},
   "outputs": [],
   "source": [
    "def random_z_score():\n",
    "    return np.random.normal(0,1)"
   ]
  },
  {
   "cell_type": "markdown",
   "metadata": {},
   "source": [
    "## Calculate Scenario Gains/Losses over a 5 day \"What If\" period"
   ]
  },
  {
   "cell_type": "code",
   "execution_count": 11,
   "metadata": {},
   "outputs": [],
   "source": [
    "# If in the next 5 days, at the 95% confidence interval, \n",
    "# what is the 5th percentile worst day scenario?\n",
    "# Meaning how much money could we possibly lose?\n",
    "\n",
    "# The following would give the TOTAL expected return over the time period\n",
    "# >>portfolio_value * portfolio_expected_return * days\n",
    "\n",
    "# The following will add a volatile element, meaning a negative \n",
    "# or positive variance depending on the z-score\n",
    "# >> portfolio_value * portfolio_std_dev * z_score * np.sqrt(days)\n",
    "\n",
    "days = 5\n",
    "\n",
    "def scenario_gain_loss(portfolio_value, portfolio_std_dev, z_score, days):\n",
    "    return portfolio_value * portfolio_expected_return * days + portfolio_value * portfolio_std_dev * z_score * np.sqrt(days)"
   ]
  },
  {
   "cell_type": "markdown",
   "metadata": {},
   "source": [
    "## Run 10,000 simulations ##"
   ]
  },
  {
   "cell_type": "code",
   "execution_count": 12,
   "metadata": {},
   "outputs": [],
   "source": [
    "# 10,000 - 20,000 simulations will produce more accurate results\n",
    "# Given the amount of data we are testing this amount of simulations is appropriate\n",
    "# Shorter data sets can get away 300-500 simulations\n",
    "\n",
    "simulations = 10000\n",
    "scenarioReturn = []\n",
    "\n",
    "#Pass results into empty array\n",
    "for i in range(simulations):\n",
    "    z_score = random_z_score()\n",
    "    scenarioReturn.append(scenario_gain_loss(portfolio_value, portfolio_std_dev, z_score, days))\n",
    "    "
   ]
  },
  {
   "cell_type": "markdown",
   "metadata": {},
   "source": [
    "## Value at Risk ##"
   ]
  },
  {
   "cell_type": "markdown",
   "metadata": {},
   "source": [
    "## Set the Confidence Interval ##"
   ]
  },
  {
   "cell_type": "code",
   "execution_count": 15,
   "metadata": {},
   "outputs": [
    {
     "name": "stdout",
     "output_type": "stream",
     "text": [
      "25608.00117119169\n"
     ]
    }
   ],
   "source": [
    "confidence_interval = 0.95\n",
    "# 1 - confidence interval is the significance level\n",
    "VaR = -np.percentile(scenarioReturn, 100 * (1 - confidence_interval))\n",
    "print(VaR)"
   ]
  },
  {
   "cell_type": "markdown",
   "metadata": {},
   "source": [
    "## Plot Results of Simulation ##"
   ]
  },
  {
   "cell_type": "code",
   "execution_count": 16,
   "metadata": {},
   "outputs": [
    {
     "data": {
      "image/png": "[encoded data removed]",
      "text/plain": [
       "<Figure size 640x480 with 1 Axes>"
      ]
     },
     "metadata": {},
     "output_type": "display_data"
    }
   ],
   "source": [
    "plt.hist(scenarioReturn, bins = 75, density = True)\n",
    "plt.xlabel('Scenario Gain/Loss')\n",
    "plt.ylabel('Frequency')\n",
    "plt.title(f'Distribution of Portfolio Gain/Loss Over {days} Days')\n",
    "plt.axvline(-VaR, color = 'r', linestyle = 'dashed', linewidth = 2, label = f'VaR at {confidence_interval:.0%} confidence level')\n",
    "plt.legend()\n",
    "plt.show()"
   ]
  },
  {
   "cell_type": "markdown",
   "metadata": {},
   "source": [
    "### Monte Carlo Simulation Results and Analysis\r\n",
    "\r\n",
    "The graph above displays the projected range of portfolio gains and losses over a hypothetical 5-day period, based on 10,000 Monte Carlo simulation trials.  \r\n",
    "Each simulation models possible short-term returns using 15 years of historical price data for SPY, BND, GLD, QQQ, and VTI to estimate volatility and expected retur\n",
    "At a 95% confidence interval, our Monte Carlo simulation estimates that the portfolio's Value at Risk (VaR) over a 5-day period is approximately -25000, meaning there is a 5% chance of experiencing losses greater than $25,000.\r\n",
    "ns."
   ]
  }
 ],
 "metadata": {
  "kernelspec": {
   "display_name": "Python 3 (ipykernel)",
   "language": "python",
   "name": "python3"
  },
  "language_info": {
   "codemirror_mode": {
    "name": "ipython",
    "version": 3
   },
   "file_extension": ".py",
   "mimetype": "text/x-python",
   "name": "python",
   "nbconvert_exporter": "python",
   "pygments_lexer": "ipython3",
   "version": "3.12.9"
  }
 },
 "nbformat": 4,
 "nbformat_minor": 4
}
